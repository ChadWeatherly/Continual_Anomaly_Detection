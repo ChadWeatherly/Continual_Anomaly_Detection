{
 "cells": [
  {
   "metadata": {},
   "cell_type": "markdown",
   "source": [
    "# Testing\n",
    "\n",
    "Testing out DNE method, possibly along with others, to get a working version\n",
    "\n",
    "_Had issues with PyTorch 2.5.0, so downgraded to 2.4.0_"
   ],
   "id": "d5f4a1dfda24cabc"
  },
  {
   "metadata": {
    "ExecuteTime": {
     "end_time": "2024-10-16T22:39:22.893631Z",
     "start_time": "2024-10-16T22:39:22.891278Z"
    }
   },
   "cell_type": "code",
   "source": "",
   "id": "91eba2ce5abda33",
   "outputs": [],
   "execution_count": 2
  },
  {
   "metadata": {
    "jupyter": {
     "is_executing": true
    }
   },
   "cell_type": "code",
   "source": "",
   "id": "f73adda2b8ffc874",
   "outputs": [],
   "execution_count": null
  },
  {
   "metadata": {},
   "cell_type": "code",
   "outputs": [],
   "execution_count": null,
   "source": "",
   "id": "42c8004327d00b63"
  }
 ],
 "metadata": {
  "kernelspec": {
   "display_name": "Python 3",
   "language": "python",
   "name": "python3"
  },
  "language_info": {
   "codemirror_mode": {
    "name": "ipython",
    "version": 2
   },
   "file_extension": ".py",
   "mimetype": "text/x-python",
   "name": "python",
   "nbconvert_exporter": "python",
   "pygments_lexer": "ipython2",
   "version": "2.7.6"
  }
 },
 "nbformat": 4,
 "nbformat_minor": 5
}
