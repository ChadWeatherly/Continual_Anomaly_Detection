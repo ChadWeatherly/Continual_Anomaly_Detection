{
 "cells": [
  {
   "metadata": {},
   "cell_type": "markdown",
   "source": [
    "# Testing DNE from Paper\n",
    "\n",
    "[Towards Continual Adaptation in Industrial Anomaly Detection](CAD_paper.pdf)"
   ],
   "id": "3df64696b838b953"
  },
  {
   "metadata": {
    "ExecuteTime": {
     "end_time": "2024-10-14T15:42:45.377181Z",
     "start_time": "2024-10-14T15:42:45.373288Z"
    }
   },
   "cell_type": "code",
   "source": "dir()",
   "id": "94ed0e3dbe7b0196",
   "outputs": [
    {
     "data": {
      "text/plain": [
       "['In',\n",
       " 'Out',\n",
       " '_',\n",
       " '_1',\n",
       " '__',\n",
       " '___',\n",
       " '__builtin__',\n",
       " '__builtins__',\n",
       " '__doc__',\n",
       " '__loader__',\n",
       " '__name__',\n",
       " '__package__',\n",
       " '__session__',\n",
       " '__spec__',\n",
       " '_dh',\n",
       " '_i',\n",
       " '_i1',\n",
       " '_i2',\n",
       " '_ih',\n",
       " '_ii',\n",
       " '_iii',\n",
       " '_oh',\n",
       " '_pydevd_bundle',\n",
       " 'exit',\n",
       " 'get_ipython',\n",
       " 'open',\n",
       " 'pydev_jupyter_vars',\n",
       " 'quit',\n",
       " 'remove_imported_pydev_package',\n",
       " 'sys']"
      ]
     },
     "execution_count": 2,
     "metadata": {},
     "output_type": "execute_result"
    }
   ],
   "execution_count": 2
  },
  {
   "metadata": {},
   "cell_type": "code",
   "outputs": [],
   "execution_count": null,
   "source": "",
   "id": "f90ad5ecead1b459"
  }
 ],
 "metadata": {
  "kernelspec": {
   "display_name": "Python 3",
   "language": "python",
   "name": "python3"
  },
  "language_info": {
   "codemirror_mode": {
    "name": "ipython",
    "version": 2
   },
   "file_extension": ".py",
   "mimetype": "text/x-python",
   "name": "python",
   "nbconvert_exporter": "python",
   "pygments_lexer": "ipython2",
   "version": "2.7.6"
  }
 },
 "nbformat": 4,
 "nbformat_minor": 5
}
