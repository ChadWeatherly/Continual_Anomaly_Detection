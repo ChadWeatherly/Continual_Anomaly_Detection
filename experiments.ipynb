{
 "cells": [
  {
   "metadata": {},
   "cell_type": "markdown",
   "source": "# Code for Running Experiments",
   "id": "86a85e95d262040c"
  },
  {
   "metadata": {
    "ExecuteTime": {
     "end_time": "2025-03-03T18:38:31.172016Z",
     "start_time": "2025-03-03T18:38:31.162562Z"
    }
   },
   "cell_type": "code",
   "source": [
    "# from datasets.datasets import mvtec\n",
    "import os\n",
    "import numpy as np\n",
    "from utils.general_utils import create_mvtec_supervised\n",
    "from datasets.mvtec import mvtec\n",
    "\n",
    "### Creating MVTEC supervised dataset\n",
    "# First, we get statistics where we find what is the distribution of the number of images per anomaly-type, across all categories to\n",
    "# see how many average number of images in each of the test anomalous classes\n",
    "# On average, we have about 17 images per anomalous class. In practice, we don't often have access to that many anomalous cases, so let's use 20% for testing and 80% for training.\n",
    "\n",
    "create_supervised = False # we will set this to false after it's done, but we want to keep track of the code\n",
    "if create_supervised: create_mvtec_supervised()\n",
    "\n",
    "### Creating MTD dataset\n",
    "# First, let's see how many images we have for ecah anomaly type\n",
    "## We have 5 anomalous classes and 1 normal class. There are 1344 images in total,\n",
    "# with ~70% of those being normal images. Since there's a bit of a class imbalance, let's also use 70% for training and 30% for testing, which will give us about 400 images in testing"
   ],
   "id": "684b1f564ab9609d",
   "outputs": [
    {
     "name": "stdout",
     "output_type": "stream",
     "text": [
      "6\n",
      "24\n",
      "13.863013698630137\n",
      "4.457762410912128\n",
      "\n",
      "[103.0, 85.0, 115.0, 32.0, 57.0, 952.0]\n",
      "total mtd images: 1344.0\n",
      "pct normal images: 0.7083333333333334\n"
     ]
    }
   ],
   "execution_count": 3
  },
  {
   "metadata": {
    "ExecuteTime": {
     "end_time": "2025-03-03T18:20:56.991664Z",
     "start_time": "2025-03-03T18:20:56.976119Z"
    }
   },
   "cell_type": "code",
   "source": [
    "mvtec_bottle_train = mvtec(train=True, task='bottle', unsupervised=False)\n",
    "mvtec_bottle_train[0]"
   ],
   "id": "59488e5626ef9255",
   "outputs": [
    {
     "name": "stdout",
     "output_type": "stream",
     "text": [
      "datasets/mvtec_anomaly_detection/supervised/bottle/ground_truth/broken_small/001_mask.png\n"
     ]
    },
    {
     "data": {
      "text/plain": [
       "{'image': tensor([[[255, 255, 255,  ..., 255, 255, 255],\n",
       "          [255, 255, 255,  ..., 255, 255, 255],\n",
       "          [255, 255, 255,  ..., 255, 255, 255],\n",
       "          ...,\n",
       "          [255, 255, 255,  ..., 255, 255, 255],\n",
       "          [255, 255, 255,  ..., 255, 255, 255],\n",
       "          [255, 255, 255,  ..., 255, 255, 255]],\n",
       " \n",
       "         [[255, 255, 255,  ..., 255, 255, 255],\n",
       "          [255, 255, 255,  ..., 255, 255, 255],\n",
       "          [255, 255, 255,  ..., 255, 255, 255],\n",
       "          ...,\n",
       "          [255, 255, 255,  ..., 255, 255, 255],\n",
       "          [255, 255, 255,  ..., 255, 255, 255],\n",
       "          [255, 255, 255,  ..., 255, 255, 255]],\n",
       " \n",
       "         [[255, 255, 255,  ..., 255, 255, 255],\n",
       "          [255, 255, 255,  ..., 255, 255, 255],\n",
       "          [255, 255, 255,  ..., 255, 255, 255],\n",
       "          ...,\n",
       "          [255, 255, 255,  ..., 255, 255, 255],\n",
       "          [255, 255, 255,  ..., 255, 255, 255],\n",
       "          [255, 255, 255,  ..., 255, 255, 255]]], dtype=torch.uint8),\n",
       " 'label': 1,\n",
       " 'ground_truth': tensor([[[0, 0, 0,  ..., 0, 0, 0],\n",
       "          [0, 0, 0,  ..., 0, 0, 0],\n",
       "          [0, 0, 0,  ..., 0, 0, 0],\n",
       "          ...,\n",
       "          [0, 0, 0,  ..., 0, 0, 0],\n",
       "          [0, 0, 0,  ..., 0, 0, 0],\n",
       "          [0, 0, 0,  ..., 0, 0, 0]]], dtype=torch.uint8)}"
      ]
     },
     "execution_count": 6,
     "metadata": {},
     "output_type": "execute_result"
    }
   ],
   "execution_count": 6
  },
  {
   "metadata": {
    "ExecuteTime": {
     "end_time": "2025-03-03T18:21:12.684234Z",
     "start_time": "2025-03-03T18:21:12.681629Z"
    }
   },
   "cell_type": "code",
   "source": "mvtec_bottle_train.filenames[0]",
   "id": "2704de6427a573dc",
   "outputs": [
    {
     "data": {
      "text/plain": [
       "'datasets/mvtec_anomaly_detection/supervised/bottle/train/broken_small/001.png'"
      ]
     },
     "execution_count": 8,
     "metadata": {},
     "output_type": "execute_result"
    }
   ],
   "execution_count": 8
  },
  {
   "metadata": {},
   "cell_type": "code",
   "outputs": [],
   "execution_count": null,
   "source": "",
   "id": "1225f838cc9ab02e"
  }
 ],
 "metadata": {
  "kernelspec": {
   "display_name": "Python 3",
   "language": "python",
   "name": "python3"
  },
  "language_info": {
   "codemirror_mode": {
    "name": "ipython",
    "version": 2
   },
   "file_extension": ".py",
   "mimetype": "text/x-python",
   "name": "python",
   "nbconvert_exporter": "python",
   "pygments_lexer": "ipython2",
   "version": "2.7.6"
  }
 },
 "nbformat": 4,
 "nbformat_minor": 5
}
