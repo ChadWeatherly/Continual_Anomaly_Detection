{
 "cells": [
  {
   "metadata": {},
   "cell_type": "markdown",
   "source": "# Code for Running Experiments",
   "id": "86a85e95d262040c"
  },
  {
   "metadata": {
    "ExecuteTime": {
     "end_time": "2025-03-03T18:21:46.238580Z",
     "start_time": "2025-03-03T18:21:46.233269Z"
    }
   },
   "cell_type": "code",
   "source": [
    "# from datasets.datasets import mvtec\n",
    "import os\n",
    "import numpy as np\n",
    "from utils.general_utils import create_mvtec_supervised\n",
    "from datasets.datasets import mvtec\n",
    "\n",
    "### Creating MVTEC supervised dataset\n",
    "# First, we get statistics where we find what is the distribution of the number of images per anomaly-type, across all categories to\n",
    "# see how many average number of images in each of the test anomalous classes\n",
    "num_vals = []\n",
    "path = 'datasets/mvtec_anomaly_detection/supervised/'\n",
    "for cat in os.listdir(path):\n",
    "    if \".\" not in cat:\n",
    "        for anom_class in os.listdir(path+cat+\"/test/\"):\n",
    "            if \".\" not in anom_class:\n",
    "                if anom_class != \"good\":\n",
    "                    num_vals.append(len(os.listdir(path+cat+\"/test/\"+anom_class)))\n",
    "\n",
    "num_vals = np.array(num_vals)\n",
    "print(num_vals.min(), num_vals.max(), num_vals.mean(), num_vals.std(), sep=\"\\n\")\n",
    "# On average, we have about 17 images per anomalous class. In practice, we don't often have access to that many anomalous cases, so let's use 20% for testing and 80% for training.\n",
    "\n",
    "create_supervised = False # we will set this to false after it's done, but we want to keep track of the code\n",
    "if create_supervised: create_mvtec_supervised()"
   ],
   "id": "684b1f564ab9609d",
   "outputs": [
    {
     "name": "stdout",
     "output_type": "stream",
     "text": [
      "6\n",
      "24\n",
      "13.863013698630137\n",
      "4.457762410912128\n"
     ]
    }
   ],
   "execution_count": 9
  },
  {
   "metadata": {
    "ExecuteTime": {
     "end_time": "2025-03-03T18:20:56.991664Z",
     "start_time": "2025-03-03T18:20:56.976119Z"
    }
   },
   "cell_type": "code",
   "source": [
    "mvtec_bottle_train = mvtec(train=True, task='bottle', unsupervised=False)\n",
    "mvtec_bottle_train[0]"
   ],
   "id": "59488e5626ef9255",
   "outputs": [
    {
     "name": "stdout",
     "output_type": "stream",
     "text": [
      "datasets/mvtec_anomaly_detection/supervised/bottle/ground_truth/broken_small/001_mask.png\n"
     ]
    },
    {
     "data": {
      "text/plain": [
       "{'image': tensor([[[255, 255, 255,  ..., 255, 255, 255],\n",
       "          [255, 255, 255,  ..., 255, 255, 255],\n",
       "          [255, 255, 255,  ..., 255, 255, 255],\n",
       "          ...,\n",
       "          [255, 255, 255,  ..., 255, 255, 255],\n",
       "          [255, 255, 255,  ..., 255, 255, 255],\n",
       "          [255, 255, 255,  ..., 255, 255, 255]],\n",
       " \n",
       "         [[255, 255, 255,  ..., 255, 255, 255],\n",
       "          [255, 255, 255,  ..., 255, 255, 255],\n",
       "          [255, 255, 255,  ..., 255, 255, 255],\n",
       "          ...,\n",
       "          [255, 255, 255,  ..., 255, 255, 255],\n",
       "          [255, 255, 255,  ..., 255, 255, 255],\n",
       "          [255, 255, 255,  ..., 255, 255, 255]],\n",
       " \n",
       "         [[255, 255, 255,  ..., 255, 255, 255],\n",
       "          [255, 255, 255,  ..., 255, 255, 255],\n",
       "          [255, 255, 255,  ..., 255, 255, 255],\n",
       "          ...,\n",
       "          [255, 255, 255,  ..., 255, 255, 255],\n",
       "          [255, 255, 255,  ..., 255, 255, 255],\n",
       "          [255, 255, 255,  ..., 255, 255, 255]]], dtype=torch.uint8),\n",
       " 'label': 1,\n",
       " 'ground_truth': tensor([[[0, 0, 0,  ..., 0, 0, 0],\n",
       "          [0, 0, 0,  ..., 0, 0, 0],\n",
       "          [0, 0, 0,  ..., 0, 0, 0],\n",
       "          ...,\n",
       "          [0, 0, 0,  ..., 0, 0, 0],\n",
       "          [0, 0, 0,  ..., 0, 0, 0],\n",
       "          [0, 0, 0,  ..., 0, 0, 0]]], dtype=torch.uint8)}"
      ]
     },
     "execution_count": 6,
     "metadata": {},
     "output_type": "execute_result"
    }
   ],
   "execution_count": 6
  },
  {
   "metadata": {
    "ExecuteTime": {
     "end_time": "2025-03-03T18:21:12.684234Z",
     "start_time": "2025-03-03T18:21:12.681629Z"
    }
   },
   "cell_type": "code",
   "source": "mvtec_bottle_train.filenames[0]",
   "id": "2704de6427a573dc",
   "outputs": [
    {
     "data": {
      "text/plain": [
       "'datasets/mvtec_anomaly_detection/supervised/bottle/train/broken_small/001.png'"
      ]
     },
     "execution_count": 8,
     "metadata": {},
     "output_type": "execute_result"
    }
   ],
   "execution_count": 8
  },
  {
   "metadata": {},
   "cell_type": "code",
   "outputs": [],
   "execution_count": null,
   "source": "",
   "id": "1225f838cc9ab02e"
  }
 ],
 "metadata": {
  "kernelspec": {
   "display_name": "Python 3",
   "language": "python",
   "name": "python3"
  },
  "language_info": {
   "codemirror_mode": {
    "name": "ipython",
    "version": 2
   },
   "file_extension": ".py",
   "mimetype": "text/x-python",
   "name": "python",
   "nbconvert_exporter": "python",
   "pygments_lexer": "ipython2",
   "version": "2.7.6"
  }
 },
 "nbformat": 4,
 "nbformat_minor": 5
}
