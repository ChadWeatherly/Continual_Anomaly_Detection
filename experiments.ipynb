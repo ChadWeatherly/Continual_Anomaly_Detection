{
 "cells": [
  {
   "metadata": {},
   "cell_type": "markdown",
   "source": "# Code for Running Experiments",
   "id": "86a85e95d262040c"
  },
  {
   "metadata": {
    "ExecuteTime": {
     "end_time": "2025-02-28T17:12:02.357163Z",
     "start_time": "2025-02-28T17:12:02.217770Z"
    }
   },
   "cell_type": "code",
   "source": [
    "# from datasets.datasets import mvtec\n",
    "import os\n",
    "import numpy as np\n",
    "from utils.general_utils import create_mvtec_supervised\n",
    "\n",
    "### Creating MVTEC supervised dataset\n",
    "# First, we get statistics where we find what is the distribution of the number of images per anomaly-type, across all categories?\n",
    "# see how many average number of images in each of the test anomalous classes\n",
    "num_vals = []\n",
    "path = 'datasets/mvtec_anomaly_detection/supervised/'\n",
    "for cat in os.listdir(path):\n",
    "    if \".\" not in cat:\n",
    "        for anom_class in os.listdir(path+cat+\"/test/\"):\n",
    "            if anom_class != \"good\":\n",
    "                num_vals.append(len(os.listdir(path+cat+\"/test/\"+anom_class)))\n",
    "\n",
    "num_vals = np.array(num_vals)\n",
    "print(num_vals.min(), num_vals.max(), num_vals.mean(), num_vals.std(), sep=\"\\n\")\n",
    "# On average, we have about 17 images per anomalous class. In practice, we don't often have access to that many anomalous cases, so let's use 20% for testing and 80% for training.\n",
    "\n",
    "create_supervised = True # we will set this to false after it's done, but we want to keep track of the code\n",
    "if create_supervised: create_mvtec_supervised()\n"
   ],
   "id": "684b1f564ab9609d",
   "outputs": [
    {
     "name": "stdout",
     "output_type": "stream",
     "text": [
      "8\n",
      "30\n",
      "17.232876712328768\n",
      "5.089663303838869\n",
      "datasets/mvtec_anomaly_detection/supervised/transistor/train/misplaced/\n"
     ]
    },
    {
     "ename": "PermissionError",
     "evalue": "[Errno 13] Permission denied: 'datasets/mvtec_anomaly_detection/supervised/transistor/train/misplaced/'",
     "output_type": "error",
     "traceback": [
      "\u001B[0;31m---------------------------------------------------------------------------\u001B[0m",
      "\u001B[0;31mPermissionError\u001B[0m                           Traceback (most recent call last)",
      "Cell \u001B[0;32mIn[1], line 22\u001B[0m\n\u001B[1;32m     19\u001B[0m \u001B[38;5;66;03m# On average, we have about 17 images per anomalous class. In practice, we don't often have access to that many anomalous cases, so let's use 20% for testing and 80% for training.\u001B[39;00m\n\u001B[1;32m     21\u001B[0m create_supervised \u001B[38;5;241m=\u001B[39m \u001B[38;5;28;01mTrue\u001B[39;00m \u001B[38;5;66;03m# we will set this to false after it's done, but we want to keep track of the code\u001B[39;00m\n\u001B[0;32m---> 22\u001B[0m \u001B[38;5;28;01mif\u001B[39;00m create_supervised: create_mvtec_supervised()\n",
      "File \u001B[0;32m~/phd_projects/Continual_Anomaly_Detection/utils/general_utils.py:24\u001B[0m, in \u001B[0;36mcreate_mvtec_supervised\u001B[0;34m()\u001B[0m\n\u001B[1;32m     22\u001B[0m \u001B[38;5;28;01mif\u001B[39;00m \u001B[38;5;129;01mnot\u001B[39;00m os\u001B[38;5;241m.\u001B[39mpath\u001B[38;5;241m.\u001B[39misdir(new_path):\n\u001B[1;32m     23\u001B[0m     \u001B[38;5;28mprint\u001B[39m(new_path)\n\u001B[0;32m---> 24\u001B[0m     \u001B[43mos\u001B[49m\u001B[38;5;241;43m.\u001B[39;49m\u001B[43mmakedirs\u001B[49m\u001B[43m(\u001B[49m\u001B[43mnew_path\u001B[49m\u001B[43m,\u001B[49m\u001B[43m \u001B[49m\u001B[38;5;241;43m0o777\u001B[39;49m\u001B[43m)\u001B[49m\n\u001B[1;32m     25\u001B[0m     \u001B[38;5;28mprint\u001B[39m(\u001B[38;5;124m'\u001B[39m\u001B[38;5;124mmade dir\u001B[39m\u001B[38;5;124m'\u001B[39m, sep\u001B[38;5;241m=\u001B[39m\u001B[38;5;124m\"\u001B[39m\u001B[38;5;130;01m\\n\u001B[39;00m\u001B[38;5;124m\"\u001B[39m)\n\u001B[1;32m     26\u001B[0m \u001B[38;5;66;03m# os.rename(path+cat+\"/test/\"+anom_class+\"/\"+img_file, path+cat+\"/train/\"+anom_class+\"/\"+img_file)\u001B[39;00m\n",
      "File \u001B[0;32m<frozen os>:227\u001B[0m, in \u001B[0;36mmakedirs\u001B[0;34m(name, mode, exist_ok)\u001B[0m\n",
      "\u001B[0;31mPermissionError\u001B[0m: [Errno 13] Permission denied: 'datasets/mvtec_anomaly_detection/supervised/transistor/train/misplaced/'"
     ]
    }
   ],
   "execution_count": 1
  },
  {
   "metadata": {
    "ExecuteTime": {
     "end_time": "2025-02-28T17:13:32.791784Z",
     "start_time": "2025-02-28T17:13:32.788919Z"
    }
   },
   "cell_type": "code",
   "source": "os.access('datasets/mvtec_anomaly_detection/supervised', os.W_OK)",
   "id": "44a92de5e3194f34",
   "outputs": [
    {
     "data": {
      "text/plain": [
       "True"
      ]
     },
     "execution_count": 5,
     "metadata": {},
     "output_type": "execute_result"
    }
   ],
   "execution_count": 5
  },
  {
   "metadata": {
    "ExecuteTime": {
     "end_time": "2025-02-28T16:05:37.472477Z",
     "start_time": "2025-02-28T16:05:37.468620Z"
    }
   },
   "cell_type": "code",
   "source": "num_vals",
   "id": "c8ec4fc7542f87bf",
   "outputs": [
    {
     "data": {
      "text/plain": [
       "[10,\n",
       " 10,\n",
       " 10,\n",
       " 10,\n",
       " 8,\n",
       " 10,\n",
       " 21,\n",
       " 11,\n",
       " 10,\n",
       " 23,\n",
       " 23,\n",
       " 21,\n",
       " 22,\n",
       " 20,\n",
       " 22,\n",
       " 23,\n",
       " 23,\n",
       " 25,\n",
       " 26,\n",
       " 25,\n",
       " 24,\n",
       " 9,\n",
       " 19,\n",
       " 17,\n",
       " 21,\n",
       " 19,\n",
       " 18,\n",
       " 17,\n",
       " 16,\n",
       " 16,\n",
       " 16,\n",
       " 17,\n",
       " 17,\n",
       " 15,\n",
       " 16,\n",
       " 18,\n",
       " 18,\n",
       " 18,\n",
       " 17,\n",
       " 17,\n",
       " 18,\n",
       " 19,\n",
       " 17,\n",
       " 17,\n",
       " 19,\n",
       " 17,\n",
       " 10,\n",
       " 10,\n",
       " 12,\n",
       " 12,\n",
       " 10,\n",
       " 13,\n",
       " 11,\n",
       " 14,\n",
       " 19,\n",
       " 19,\n",
       " 18,\n",
       " 19,\n",
       " 17,\n",
       " 23,\n",
       " 25,\n",
       " 24,\n",
       " 24,\n",
       " 23,\n",
       " 30,\n",
       " 22,\n",
       " 20,\n",
       " 21,\n",
       " 11,\n",
       " 12,\n",
       " 11,\n",
       " 12,\n",
       " 11]"
      ]
     },
     "execution_count": 8,
     "metadata": {},
     "output_type": "execute_result"
    }
   ],
   "execution_count": 8
  },
  {
   "metadata": {
    "ExecuteTime": {
     "end_time": "2025-02-26T01:12:58.196412Z",
     "start_time": "2025-02-26T01:12:58.193604Z"
    }
   },
   "cell_type": "code",
   "source": "dataset.filenames[45]",
   "id": "45f9b70075af0d88",
   "outputs": [
    {
     "data": {
      "text/plain": [
       "'datasets/mvtec_anomaly_detection/bottle/test/good/003.png'"
      ]
     },
     "execution_count": 7,
     "metadata": {},
     "output_type": "execute_result"
    }
   ],
   "execution_count": 7
  },
  {
   "metadata": {},
   "cell_type": "code",
   "outputs": [],
   "execution_count": null,
   "source": "",
   "id": "2704de6427a573dc"
  }
 ],
 "metadata": {
  "kernelspec": {
   "display_name": "Python 3",
   "language": "python",
   "name": "python3"
  },
  "language_info": {
   "codemirror_mode": {
    "name": "ipython",
    "version": 2
   },
   "file_extension": ".py",
   "mimetype": "text/x-python",
   "name": "python",
   "nbconvert_exporter": "python",
   "pygments_lexer": "ipython2",
   "version": "2.7.6"
  }
 },
 "nbformat": 4,
 "nbformat_minor": 5
}
