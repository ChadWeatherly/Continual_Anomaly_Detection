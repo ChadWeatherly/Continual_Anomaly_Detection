{
 "cells": [
  {
   "metadata": {},
   "cell_type": "markdown",
   "source": "# Code for Running Experiments",
   "id": "86a85e95d262040c"
  },
  {
   "metadata": {
    "ExecuteTime": {
     "end_time": "2025-02-26T01:11:28.706625Z",
     "start_time": "2025-02-26T01:11:27.445003Z"
    }
   },
   "cell_type": "code",
   "source": [
    "from datasets.datasets import mvtec \n",
    "import os"
   ],
   "id": "684b1f564ab9609d",
   "outputs": [],
   "execution_count": 1
  },
  {
   "metadata": {
    "ExecuteTime": {
     "end_time": "2025-02-26T01:11:29.257981Z",
     "start_time": "2025-02-26T01:11:29.250290Z"
    }
   },
   "cell_type": "code",
   "source": [
    "dataset = mvtec(train=False, task='bottle')\n",
    "dataset.__len__()"
   ],
   "id": "44a92de5e3194f34",
   "outputs": [
    {
     "data": {
      "text/plain": [
       "83"
      ]
     },
     "execution_count": 2,
     "metadata": {},
     "output_type": "execute_result"
    }
   ],
   "execution_count": 2
  },
  {
   "metadata": {
    "ExecuteTime": {
     "end_time": "2025-02-26T01:12:53.400631Z",
     "start_time": "2025-02-26T01:12:53.384551Z"
    }
   },
   "cell_type": "code",
   "source": "dataset[45]",
   "id": "c8ec4fc7542f87bf",
   "outputs": [
    {
     "data": {
      "text/plain": [
       "(tensor([[[255, 255, 255,  ..., 255, 255, 255],\n",
       "          [255, 255, 255,  ..., 255, 255, 255],\n",
       "          [255, 255, 255,  ..., 255, 255, 255],\n",
       "          ...,\n",
       "          [255, 255, 255,  ..., 255, 255, 255],\n",
       "          [255, 255, 255,  ..., 255, 255, 255],\n",
       "          [255, 255, 255,  ..., 255, 255, 255]],\n",
       " \n",
       "         [[255, 255, 255,  ..., 255, 255, 255],\n",
       "          [255, 255, 255,  ..., 255, 255, 255],\n",
       "          [255, 255, 255,  ..., 255, 255, 255],\n",
       "          ...,\n",
       "          [255, 255, 255,  ..., 255, 255, 255],\n",
       "          [255, 255, 255,  ..., 255, 255, 255],\n",
       "          [255, 255, 255,  ..., 255, 255, 255]],\n",
       " \n",
       "         [[255, 255, 255,  ..., 255, 255, 255],\n",
       "          [255, 255, 255,  ..., 255, 255, 255],\n",
       "          [255, 255, 255,  ..., 255, 255, 255],\n",
       "          ...,\n",
       "          [255, 255, 255,  ..., 255, 255, 255],\n",
       "          [255, 255, 255,  ..., 255, 255, 255],\n",
       "          [255, 255, 255,  ..., 255, 255, 255]]], dtype=torch.uint8),\n",
       " 0)"
      ]
     },
     "execution_count": 6,
     "metadata": {},
     "output_type": "execute_result"
    }
   ],
   "execution_count": 6
  },
  {
   "metadata": {
    "ExecuteTime": {
     "end_time": "2025-02-26T01:12:58.196412Z",
     "start_time": "2025-02-26T01:12:58.193604Z"
    }
   },
   "cell_type": "code",
   "source": "dataset.filenames[45]",
   "id": "45f9b70075af0d88",
   "outputs": [
    {
     "data": {
      "text/plain": [
       "'datasets/mvtec_anomaly_detection/bottle/test/good/003.png'"
      ]
     },
     "execution_count": 7,
     "metadata": {},
     "output_type": "execute_result"
    }
   ],
   "execution_count": 7
  },
  {
   "metadata": {},
   "cell_type": "code",
   "outputs": [],
   "execution_count": null,
   "source": "",
   "id": "2704de6427a573dc"
  }
 ],
 "metadata": {
  "kernelspec": {
   "display_name": "Python 3",
   "language": "python",
   "name": "python3"
  },
  "language_info": {
   "codemirror_mode": {
    "name": "ipython",
    "version": 2
   },
   "file_extension": ".py",
   "mimetype": "text/x-python",
   "name": "python",
   "nbconvert_exporter": "python",
   "pygments_lexer": "ipython2",
   "version": "2.7.6"
  }
 },
 "nbformat": 4,
 "nbformat_minor": 5
}
