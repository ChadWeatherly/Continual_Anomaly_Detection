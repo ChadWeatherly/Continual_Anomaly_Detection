{
 "cells": [
  {
   "metadata": {},
   "cell_type": "markdown",
   "source": [
    "# Incremental Unified Framework (IUF) Testing\n",
    "\n",
    "We want to test each component and module in isolation to make sure it's working properly\n",
    "\n",
    "_TODO:_\n",
    "1. Go through ViT code and understand unique implementation\n",
    "2. Update to include modules for creating Discriminator, Encoder, & Decoder\n",
    "3. Check for paper/code for architecture or hyperparams match our implementation (num_heads, dim, etc)\n",
    "4. Latent Space Regularization\n",
    "5. Gradient Update Regularization\n"
   ],
   "id": "79cd97f4118f2f3d"
  },
  {
   "metadata": {
    "ExecuteTime": {
     "end_time": "2025-05-20T14:04:23.571879Z",
     "start_time": "2025-05-20T14:04:23.569616Z"
    }
   },
   "cell_type": "code",
   "source": [
    "import torch\n",
    "import torch.nn as nn\n",
    "import torch.nn.functional as F\n",
    "import einops as ein"
   ],
   "id": "d72cdfd011c9690b",
   "outputs": [],
   "execution_count": 3
  },
  {
   "metadata": {},
   "cell_type": "code",
   "outputs": [],
   "execution_count": null,
   "source": "",
   "id": "228db99bf788f2aa"
  },
  {
   "metadata": {
    "ExecuteTime": {
     "end_time": "2025-05-20T15:02:07.872689Z",
     "start_time": "2025-05-20T15:02:07.868261Z"
    }
   },
   "cell_type": "code",
   "source": "",
   "id": "1acfb805f3b2f740",
   "outputs": [
    {
     "data": {
      "text/plain": [
       "torch.Size([1, 256, 678])"
      ]
     },
     "execution_count": 9,
     "metadata": {},
     "output_type": "execute_result"
    }
   ],
   "execution_count": 9
  },
  {
   "metadata": {},
   "cell_type": "code",
   "outputs": [],
   "execution_count": null,
   "source": "",
   "id": "9be12ec2558b9ac5"
  }
 ],
 "metadata": {
  "kernelspec": {
   "display_name": "Python 3",
   "language": "python",
   "name": "python3"
  },
  "language_info": {
   "codemirror_mode": {
    "name": "ipython",
    "version": 2
   },
   "file_extension": ".py",
   "mimetype": "text/x-python",
   "name": "python",
   "nbconvert_exporter": "python",
   "pygments_lexer": "ipython2",
   "version": "2.7.6"
  }
 },
 "nbformat": 4,
 "nbformat_minor": 5
}
