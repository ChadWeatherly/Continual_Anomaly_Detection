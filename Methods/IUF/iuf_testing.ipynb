{
 "cells": [
  {
   "metadata": {},
   "cell_type": "markdown",
   "source": [
    "# Incremental Unified Framework (IUF) Testing\n",
    "\n",
    "We want to test each component and module in isolation to make sure it's working properly\n",
    "\n",
    "_TODO:_\n",
    "1. Go through ViT code and understand unique implementation\n",
    "2. Update to include modules for creating Discriminator, Encoder, & Decoder\n",
    "3. Check for paper/code for architecture or hyperparams match our implementation (num_heads, dim, etc)\n",
    "4. Latent Space Regularization\n",
    "5. Gradient Update Regularization\n"
   ],
   "id": "79cd97f4118f2f3d"
  },
  {
   "metadata": {
    "ExecuteTime": {
     "end_time": "2025-06-10T19:17:28.867797Z",
     "start_time": "2025-06-10T19:17:27.401299Z"
    }
   },
   "cell_type": "code",
   "source": [
    "import einops as ein\n",
    "import torch\n",
    "import torch.nn as nn\n",
    "import torch.nn.functional as F\n",
    "from Methods.IUF.ViT import MultiHeadSelfAttention, ViTBlock, ViT"
   ],
   "id": "d72cdfd011c9690b",
   "outputs": [],
   "execution_count": 1
  },
  {
   "metadata": {
    "ExecuteTime": {
     "end_time": "2025-06-10T19:58:11.281132Z",
     "start_time": "2025-06-10T19:58:11.276558Z"
    }
   },
   "cell_type": "code",
   "source": [
    "tmp1 = torch.rand(8, 196, 64)\n",
    "pos_vec = torch.rand(1, 196, 64)\n",
    "output = (tmp1+pos_vec)\n",
    "i = j = k = 2\n",
    "print(tmp1[i,j,k])\n",
    "print(pos_vec[0,j,k])\n",
    "print(output[i,j,k])"
   ],
   "id": "1acfb805f3b2f740",
   "outputs": [
    {
     "name": "stdout",
     "output_type": "stream",
     "text": [
      "tensor(0.9186)\n",
      "tensor(0.3805)\n",
      "tensor(1.2991)\n"
     ]
    }
   ],
   "execution_count": 21
  },
  {
   "metadata": {
    "ExecuteTime": {
     "end_time": "2025-06-10T19:42:53.002497Z",
     "start_time": "2025-06-10T19:42:52.991221Z"
    }
   },
   "cell_type": "code",
   "source": [
    "class ViT(nn.Module):\n",
    "    def __init__(self):\n",
    "        super().__init__()\n",
    "\n",
    "        self.conv1 = nn.Conv2d(3, 64, kernel_size=16, stride=16, padding=0, bias=False)\n",
    "        self.ln1 = nn.LayerNorm(64)\n",
    "        self.gelu = nn.GELU()\n",
    "\n",
    "    def forward(self, x):\n",
    "\n",
    "        # out = self.gelu(self.ln1(ein.rearrange(self.conv1(x), 'b c h w -> b (h w) c')))\n",
    "        out = self.conv1(x)\n",
    "\n",
    "        return out.shape\n",
    "\n",
    "vt = ViT()\n",
    "vt(torch.rand(8, 3, 224, 224))"
   ],
   "id": "b191f00b8ec8933f",
   "outputs": [
    {
     "data": {
      "text/plain": [
       "torch.Size([8, 64, 14, 14])"
      ]
     },
     "execution_count": 9,
     "metadata": {},
     "output_type": "execute_result"
    }
   ],
   "execution_count": 9
  },
  {
   "metadata": {
    "ExecuteTime": {
     "end_time": "2025-06-10T19:38:32.196260Z",
     "start_time": "2025-06-10T19:38:32.192777Z"
    }
   },
   "cell_type": "code",
   "source": "torch.rand()",
   "id": "a7b580c904af39fb",
   "outputs": [
    {
     "data": {
      "text/plain": [
       "tensor(-0.9900)"
      ]
     },
     "execution_count": 8,
     "metadata": {},
     "output_type": "execute_result"
    }
   ],
   "execution_count": 8
  },
  {
   "metadata": {},
   "cell_type": "code",
   "source": "",
   "id": "b6493d15ce9bb4e5",
   "outputs": [],
   "execution_count": null
  }
 ],
 "metadata": {
  "kernelspec": {
   "display_name": "Python 3",
   "language": "python",
   "name": "python3"
  },
  "language_info": {
   "codemirror_mode": {
    "name": "ipython",
    "version": 2
   },
   "file_extension": ".py",
   "mimetype": "text/x-python",
   "name": "python",
   "nbconvert_exporter": "python",
   "pygments_lexer": "ipython2",
   "version": "2.7.6"
  }
 },
 "nbformat": 4,
 "nbformat_minor": 5
}
