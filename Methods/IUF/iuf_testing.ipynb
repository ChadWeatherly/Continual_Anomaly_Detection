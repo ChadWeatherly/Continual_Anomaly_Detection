{
 "cells": [
  {
   "metadata": {},
   "cell_type": "markdown",
   "source": [
    "# Incremental Unified Framework (IUF) Testing\n",
    "\n",
    "We want to test each component and module in isolation to make sure it's working properly\n",
    "\n",
    "_TODO:_\n",
    "1. Go through ViT code and understand unique implementation\n",
    "2. Update to include modules for creating Discriminator, Encoder, & Decoder\n",
    "3. Check for paper/code for architecture or hyperparams match our implementation (num_heads, dim, etc)\n",
    "4. Latent Space Regularization\n",
    "5. Gradient Update Regularization\n"
   ],
   "id": "79cd97f4118f2f3d"
  },
  {
   "metadata": {
    "ExecuteTime": {
     "end_time": "2025-06-12T16:01:29.839877Z",
     "start_time": "2025-06-12T16:01:27.802847Z"
    }
   },
   "cell_type": "code",
   "source": [
    "import einops as ein\n",
    "import torch\n",
    "import torch.nn as nn\n",
    "import torch.nn.functional as F\n",
    "from Methods.IUF.ViT import MultiHeadSelfAttention, ViTBlock, ViT\n",
    "from Methods.IUF.utils.discriminator import Discriminator\n",
    "from Methods.IUF.utils.encoder import Encoder"
   ],
   "id": "d72cdfd011c9690b",
   "outputs": [],
   "execution_count": 1
  },
  {
   "metadata": {
    "ExecuteTime": {
     "end_time": "2025-06-12T16:01:31.621102Z",
     "start_time": "2025-06-12T16:01:29.942349Z"
    }
   },
   "cell_type": "code",
   "source": [
    "# Starting to put together an IUF pipeline for testing\n",
    "class IUF(nn.Module):\n",
    "    def __init__(self):\n",
    "        super().__init__()\n",
    "\n",
    "        self.discriminator = Discriminator()\n",
    "\n",
    "        self.encoder = Encoder()\n",
    "\n",
    "        return\n",
    "\n",
    "    def forward(self, x):\n",
    "\n",
    "        # List of length num_layers,\n",
    "        # where each item is a tensor of size (B x L x E)\n",
    "        oasa_features = self.discriminator(x, return_features=True)\n",
    "\n",
    "        latent_features = self.encoder(x, oasa_features)\n",
    "\n",
    "        return oasa_features\n",
    "\n",
    "iuf = IUF()\n",
    "dummy = torch.rand(8, 3, 224, 224)\n",
    "out = iuf(dummy)"
   ],
   "id": "1acfb805f3b2f740",
   "outputs": [],
   "execution_count": 2
  },
  {
   "metadata": {
    "ExecuteTime": {
     "end_time": "2025-06-12T16:02:14.503549Z",
     "start_time": "2025-06-12T16:02:14.500349Z"
    }
   },
   "cell_type": "code",
   "source": "out[0].shape",
   "id": "71a4199ecdbad2b7",
   "outputs": [
    {
     "data": {
      "text/plain": [
       "torch.Size([8, 196, 64])"
      ]
     },
     "execution_count": 6,
     "metadata": {},
     "output_type": "execute_result"
    }
   ],
   "execution_count": 6
  },
  {
   "metadata": {
    "ExecuteTime": {
     "end_time": "2025-06-11T15:03:50.716766Z",
     "start_time": "2025-06-11T15:03:50.711760Z"
    }
   },
   "cell_type": "code",
   "source": "out[0][0].sum()",
   "id": "a7b580c904af39fb",
   "outputs": [
    {
     "data": {
      "text/plain": [
       "tensor(1., grad_fn=<SumBackward0>)"
      ]
     },
     "execution_count": 4,
     "metadata": {},
     "output_type": "execute_result"
    }
   ],
   "execution_count": 4
  },
  {
   "metadata": {},
   "cell_type": "code",
   "source": "",
   "id": "b6493d15ce9bb4e5",
   "outputs": [],
   "execution_count": null
  }
 ],
 "metadata": {
  "kernelspec": {
   "display_name": "Python 3",
   "language": "python",
   "name": "python3"
  },
  "language_info": {
   "codemirror_mode": {
    "name": "ipython",
    "version": 2
   },
   "file_extension": ".py",
   "mimetype": "text/x-python",
   "name": "python",
   "nbconvert_exporter": "python",
   "pygments_lexer": "ipython2",
   "version": "2.7.6"
  }
 },
 "nbformat": 4,
 "nbformat_minor": 5
}
