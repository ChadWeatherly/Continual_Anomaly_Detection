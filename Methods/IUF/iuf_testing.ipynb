{
 "cells": [
  {
   "metadata": {},
   "cell_type": "markdown",
   "source": [
    "# Incremental Unified Framework (IUF) Testing\n",
    "\n",
    "We want to test each component and module in isolation to make sure it's working properly\n",
    "\n",
    "_TODO:_\n",
    "1. Go through ViT code and understand unique implementation\n",
    "2. Update to include modules for creating Discriminator, Encoder, & Decoder\n",
    "3. Check for paper/code for architecture or hyperparams match our implementation (num_heads, dim, etc)\n",
    "4. Latent Space Regularization\n",
    "5. Gradient Update Regularization\n"
   ],
   "id": "79cd97f4118f2f3d"
  },
  {
   "metadata": {
    "ExecuteTime": {
     "end_time": "2025-06-11T15:03:37.291555Z",
     "start_time": "2025-06-11T15:03:35.289081Z"
    }
   },
   "cell_type": "code",
   "source": [
    "import einops as ein\n",
    "import torch\n",
    "import torch.nn as nn\n",
    "import torch.nn.functional as F\n",
    "from Methods.IUF.ViT import MultiHeadSelfAttention, ViTBlock, ViT\n",
    "from Methods.IUF.utils.discriminator import Discriminator"
   ],
   "id": "d72cdfd011c9690b",
   "outputs": [],
   "execution_count": 1
  },
  {
   "metadata": {
    "ExecuteTime": {
     "end_time": "2025-06-11T15:03:39.546387Z",
     "start_time": "2025-06-11T15:03:37.815563Z"
    }
   },
   "cell_type": "code",
   "source": [
    "vt = Discriminator()\n",
    "dummy = torch.rand(8, 3, 224, 224)\n",
    "out = vt(dummy)"
   ],
   "id": "1acfb805f3b2f740",
   "outputs": [],
   "execution_count": 2
  },
  {
   "metadata": {
    "ExecuteTime": {
     "end_time": "2025-06-11T15:03:40.141746Z",
     "start_time": "2025-06-11T15:03:40.136710Z"
    }
   },
   "cell_type": "code",
   "source": "out[0].detach().numpy()",
   "id": "71a4199ecdbad2b7",
   "outputs": [
    {
     "data": {
      "text/plain": [
       "array([[0.07836362, 0.08676462, 0.07668877, 0.08307239, 0.09868931,\n",
       "        0.0542396 , 0.07430747, 0.10606543, 0.08609241, 0.0982074 ,\n",
       "        0.061308  , 0.09620103],\n",
       "       [0.07406266, 0.0836736 , 0.07552233, 0.08219466, 0.08844579,\n",
       "        0.06839662, 0.07061043, 0.11601701, 0.08648423, 0.11906297,\n",
       "        0.05939075, 0.07613888],\n",
       "       [0.07797493, 0.08565109, 0.08524148, 0.08349221, 0.08942299,\n",
       "        0.05774301, 0.07452003, 0.12010112, 0.08145637, 0.10456853,\n",
       "        0.05425137, 0.08557696],\n",
       "       [0.07512388, 0.07757302, 0.07695831, 0.09436318, 0.09606331,\n",
       "        0.06279685, 0.07609739, 0.1050284 , 0.07716016, 0.10100695,\n",
       "        0.06035652, 0.09747207],\n",
       "       [0.08232392, 0.07259124, 0.07080487, 0.08638152, 0.10194635,\n",
       "        0.06018919, 0.06923473, 0.1119076 , 0.08445992, 0.1116529 ,\n",
       "        0.06102447, 0.08748328],\n",
       "       [0.07027172, 0.08163323, 0.08983587, 0.08131117, 0.09678767,\n",
       "        0.06587564, 0.08217293, 0.12186016, 0.07535907, 0.09478995,\n",
       "        0.0551501 , 0.08495247],\n",
       "       [0.07985274, 0.09406173, 0.08421998, 0.07401413, 0.0972398 ,\n",
       "        0.07093838, 0.06809235, 0.09870318, 0.08314109, 0.10198345,\n",
       "        0.05954238, 0.08821075],\n",
       "       [0.07696267, 0.08032174, 0.08011682, 0.08356911, 0.09342502,\n",
       "        0.06166014, 0.07945558, 0.10214924, 0.08460584, 0.10223921,\n",
       "        0.06165074, 0.09384397]], dtype=float32)"
      ]
     },
     "execution_count": 3,
     "metadata": {},
     "output_type": "execute_result"
    }
   ],
   "execution_count": 3
  },
  {
   "metadata": {
    "ExecuteTime": {
     "end_time": "2025-06-11T15:03:50.716766Z",
     "start_time": "2025-06-11T15:03:50.711760Z"
    }
   },
   "cell_type": "code",
   "source": "out[0][0].sum()",
   "id": "a7b580c904af39fb",
   "outputs": [
    {
     "data": {
      "text/plain": [
       "tensor(1., grad_fn=<SumBackward0>)"
      ]
     },
     "execution_count": 4,
     "metadata": {},
     "output_type": "execute_result"
    }
   ],
   "execution_count": 4
  },
  {
   "metadata": {},
   "cell_type": "code",
   "source": "",
   "id": "b6493d15ce9bb4e5",
   "outputs": [],
   "execution_count": null
  }
 ],
 "metadata": {
  "kernelspec": {
   "display_name": "Python 3",
   "language": "python",
   "name": "python3"
  },
  "language_info": {
   "codemirror_mode": {
    "name": "ipython",
    "version": 2
   },
   "file_extension": ".py",
   "mimetype": "text/x-python",
   "name": "python",
   "nbconvert_exporter": "python",
   "pygments_lexer": "ipython2",
   "version": "2.7.6"
  }
 },
 "nbformat": 4,
 "nbformat_minor": 5
}
