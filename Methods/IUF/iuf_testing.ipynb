{
 "cells": [
  {
   "metadata": {},
   "cell_type": "markdown",
   "source": [
    "# Incremental Unified Framework (IUF) Testing\n",
    "\n",
    "We want to test each component and module in isolation to make sure it's working properly\n",
    "\n",
    "_TODO:_\n",
    "1. Go through ViT code and understand unique implementation\n",
    "2. Update to include modules for creating Discriminator, Encoder, & Decoder\n",
    "3. Check for paper/code for architecture or hyperparams match our implementation (num_heads, dim, etc)\n",
    "4. Latent Space Regularization\n",
    "5. Gradient Update Regularization\n"
   ],
   "id": "79cd97f4118f2f3d"
  },
  {
   "metadata": {
    "ExecuteTime": {
     "end_time": "2025-06-10T17:25:59.202122Z",
     "start_time": "2025-06-10T17:25:59.199226Z"
    }
   },
   "cell_type": "code",
   "source": [
    "import einops as ein\n",
    "import torch\n",
    "import torch.nn as nn\n",
    "import torch.nn.functional as F\n",
    "from Methods.IUF.ViT import MultiHeadSelfAttention, ViTBlock, ViT"
   ],
   "id": "d72cdfd011c9690b",
   "outputs": [],
   "execution_count": 2
  },
  {
   "metadata": {
    "ExecuteTime": {
     "end_time": "2025-06-10T17:27:17.153386Z",
     "start_time": "2025-06-10T17:27:15.667701Z"
    }
   },
   "cell_type": "code",
   "source": [
    "B = 8\n",
    "L = 224*224\n",
    "E = 16\n",
    "q = torch.rand(B, L, E)\n",
    "k = torch.rand(B, L, E).transpose(-2, -1)\n",
    "for batch in range(B):\n",
    "    torch.matmul(q[batch], k[batch])\n",
    "    break"
   ],
   "id": "1acfb805f3b2f740",
   "outputs": [],
   "execution_count": 3
  },
  {
   "metadata": {},
   "cell_type": "code",
   "source": [
    "sm = nn.Softmax(dim=-1)\n",
    "smq = sm(q)\n",
    "smq[0,0]"
   ],
   "id": "b191f00b8ec8933f",
   "outputs": [],
   "execution_count": null
  },
  {
   "metadata": {},
   "cell_type": "code",
   "source": "vit_block(torch.rand(10, 100, 3)).shape",
   "id": "a7b580c904af39fb",
   "outputs": [],
   "execution_count": null
  },
  {
   "metadata": {},
   "cell_type": "code",
   "source": "",
   "id": "b6493d15ce9bb4e5",
   "outputs": [],
   "execution_count": null
  }
 ],
 "metadata": {
  "kernelspec": {
   "display_name": "Python 3",
   "language": "python",
   "name": "python3"
  },
  "language_info": {
   "codemirror_mode": {
    "name": "ipython",
    "version": 2
   },
   "file_extension": ".py",
   "mimetype": "text/x-python",
   "name": "python",
   "nbconvert_exporter": "python",
   "pygments_lexer": "ipython2",
   "version": "2.7.6"
  }
 },
 "nbformat": 4,
 "nbformat_minor": 5
}
